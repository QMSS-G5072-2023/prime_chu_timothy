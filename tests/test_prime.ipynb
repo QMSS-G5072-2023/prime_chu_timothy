{
 "cells": [
  {
   "cell_type": "code",
   "execution_count": 1,
   "id": "c9ec77b6-cea4-42bb-b8d9-83157519aaf1",
   "metadata": {},
   "outputs": [
    {
     "name": "stdout",
     "output_type": "stream",
     "text": [
      "Requirement already satisfied: pytest in /Users/tjchu/Library/Caches/pypoetry/virtualenvs/mds-6Yt5H-1d-py3.11/lib/python3.11/site-packages (7.4.3)\n",
      "Requirement already satisfied: iniconfig in /Users/tjchu/Library/Caches/pypoetry/virtualenvs/mds-6Yt5H-1d-py3.11/lib/python3.11/site-packages (from pytest) (2.0.0)\n",
      "Requirement already satisfied: packaging in /Users/tjchu/Library/Caches/pypoetry/virtualenvs/mds-6Yt5H-1d-py3.11/lib/python3.11/site-packages (from pytest) (23.1)\n",
      "Requirement already satisfied: pluggy<2.0,>=0.12 in /Users/tjchu/Library/Caches/pypoetry/virtualenvs/mds-6Yt5H-1d-py3.11/lib/python3.11/site-packages (from pytest) (1.3.0)\n",
      "\n",
      "\u001b[1m[\u001b[0m\u001b[34;49mnotice\u001b[0m\u001b[1;39;49m]\u001b[0m\u001b[39;49m A new release of pip is available: \u001b[0m\u001b[31;49m23.2.1\u001b[0m\u001b[39;49m -> \u001b[0m\u001b[32;49m23.3.1\u001b[0m\n",
      "\u001b[1m[\u001b[0m\u001b[34;49mnotice\u001b[0m\u001b[1;39;49m]\u001b[0m\u001b[39;49m To update, run: \u001b[0m\u001b[32;49mpip install --upgrade pip\u001b[0m\n",
      "Note: you may need to restart the kernel to use updated packages.\n"
     ]
    }
   ],
   "source": [
    "pip install pytest"
   ]
  },
  {
   "cell_type": "code",
   "execution_count": 17,
   "id": "677e4173-0443-488b-8bbb-8b89d3eede09",
   "metadata": {},
   "outputs": [
    {
     "name": "stdout",
     "output_type": "stream",
     "text": [
      "\u001b[1m============================= test session starts ==============================\u001b[0m\n",
      "platform darwin -- Python 3.11.4, pytest-7.4.3, pluggy-1.3.0 -- /Users/tjchu/Library/Caches/pypoetry/virtualenvs/mds-6Yt5H-1d-py3.11/bin/python\n",
      "cachedir: .pytest_cache\n",
      "rootdir: /Users/tjchu/mds_course/packages/prime_tjc2188/tests\n",
      "plugins: anyio-4.0.0\n",
      "collected 0 items / 1 error                                                    \u001b[0m\n",
      "\n",
      "==================================== ERRORS ====================================\n",
      "\u001b[31m\u001b[1m____________________ ERROR collecting test_prime_tjc2188.py ____________________\u001b[0m\n",
      "\u001b[31mImportError while importing test module '/Users/tjchu/mds_course/packages/prime_tjc2188/tests/test_prime_tjc2188.py'.\n",
      "Hint: make sure your test modules/packages have valid Python names.\n",
      "Traceback:\n",
      "\u001b[1m\u001b[31m../../../../Library/Caches/pypoetry/virtualenvs/mds-6Yt5H-1d-py3.11/lib/python3.11/site-packages/_pytest/python.py\u001b[0m:617: in _importtestmodule\n",
      "    mod = import_path(\u001b[96mself\u001b[39;49;00m.path, mode=importmode, root=\u001b[96mself\u001b[39;49;00m.config.rootpath)\u001b[90m\u001b[39;49;00m\n",
      "\u001b[1m\u001b[31m../../../../Library/Caches/pypoetry/virtualenvs/mds-6Yt5H-1d-py3.11/lib/python3.11/site-packages/_pytest/pathlib.py\u001b[0m:567: in import_path\n",
      "    importlib.import_module(module_name)\u001b[90m\u001b[39;49;00m\n",
      "\u001b[1m\u001b[31m../../../../anaconda3/lib/python3.11/importlib/__init__.py\u001b[0m:126: in import_module\n",
      "    \u001b[94mreturn\u001b[39;49;00m _bootstrap._gcd_import(name[level:], package, level)\u001b[90m\u001b[39;49;00m\n",
      "\u001b[1m\u001b[31m<frozen importlib._bootstrap>\u001b[0m:1204: in _gcd_import\n",
      "    \u001b[04m\u001b[91m?\u001b[39;49;00m\u001b[04m\u001b[91m?\u001b[39;49;00m\u001b[04m\u001b[91m?\u001b[39;49;00m\u001b[90m\u001b[39;49;00m\n",
      "\u001b[1m\u001b[31m<frozen importlib._bootstrap>\u001b[0m:1176: in _find_and_load\n",
      "    \u001b[04m\u001b[91m?\u001b[39;49;00m\u001b[04m\u001b[91m?\u001b[39;49;00m\u001b[04m\u001b[91m?\u001b[39;49;00m\u001b[90m\u001b[39;49;00m\n",
      "\u001b[1m\u001b[31m<frozen importlib._bootstrap>\u001b[0m:1147: in _find_and_load_unlocked\n",
      "    \u001b[04m\u001b[91m?\u001b[39;49;00m\u001b[04m\u001b[91m?\u001b[39;49;00m\u001b[04m\u001b[91m?\u001b[39;49;00m\u001b[90m\u001b[39;49;00m\n",
      "\u001b[1m\u001b[31m<frozen importlib._bootstrap>\u001b[0m:690: in _load_unlocked\n",
      "    \u001b[04m\u001b[91m?\u001b[39;49;00m\u001b[04m\u001b[91m?\u001b[39;49;00m\u001b[04m\u001b[91m?\u001b[39;49;00m\u001b[90m\u001b[39;49;00m\n",
      "\u001b[1m\u001b[31m../../../../Library/Caches/pypoetry/virtualenvs/mds-6Yt5H-1d-py3.11/lib/python3.11/site-packages/_pytest/assertion/rewrite.py\u001b[0m:186: in exec_module\n",
      "    exec(co, module.\u001b[91m__dict__\u001b[39;49;00m)\u001b[90m\u001b[39;49;00m\n",
      "\u001b[1m\u001b[31mtest_prime_tjc2188.py\u001b[0m:3: in <module>\n",
      "    \u001b[94mfrom\u001b[39;49;00m \u001b[04m\u001b[96msrc\u001b[39;49;00m\u001b[04m\u001b[96m.\u001b[39;49;00m\u001b[04m\u001b[96mprime_tjc2188\u001b[39;49;00m \u001b[94mimport\u001b[39;49;00m prime_tjc2188\u001b[90m\u001b[39;49;00m\n",
      "\u001b[1m\u001b[31mE   ModuleNotFoundError: No module named 'src'\u001b[0m\u001b[0m\n",
      "\u001b[36m\u001b[1m=========================== short test summary info ============================\u001b[0m\n",
      "\u001b[31mERROR\u001b[0m test_prime_tjc2188.py\n",
      "!!!!!!!!!!!!!!!!!!!! Interrupted: 1 error during collection !!!!!!!!!!!!!!!!!!!!\n",
      "\u001b[31m=============================== \u001b[31m\u001b[1m1 error\u001b[0m\u001b[31m in 0.08s\u001b[0m\u001b[31m ===============================\u001b[0m\n"
     ]
    }
   ],
   "source": [
    "!pytest test_prime_tjc2188.py -vv"
   ]
  }
 ],
 "metadata": {
  "kernelspec": {
   "display_name": "Python 3 (ipykernel)",
   "language": "python",
   "name": "python3"
  },
  "language_info": {
   "codemirror_mode": {
    "name": "ipython",
    "version": 3
   },
   "file_extension": ".py",
   "mimetype": "text/x-python",
   "name": "python",
   "nbconvert_exporter": "python",
   "pygments_lexer": "ipython3",
   "version": "3.11.4"
  }
 },
 "nbformat": 4,
 "nbformat_minor": 5
}
